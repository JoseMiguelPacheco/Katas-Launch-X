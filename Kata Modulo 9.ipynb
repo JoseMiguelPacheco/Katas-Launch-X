{
 "cells": [
  {
   "cell_type": "markdown",
   "metadata": {},
   "source": [
    "Ejercicio 1: Trabajar con argumentos en funciones"
   ]
  },
  {
   "cell_type": "code",
   "execution_count": 1,
   "metadata": {},
   "outputs": [
    {
     "name": "stdout",
     "output_type": "stream",
     "text": [
      "Reporte de Gasolina:\n",
      "    Promedio: 78.33333333333333%\n",
      "    Tanque 0: 80%\n",
      "    Tanque 1: 80%\n",
      "    Tanque 2: 80% \n",
      "    \n"
     ]
    }
   ],
   "source": [
    "def generate_report(tanque_0, tanque_1, tanque_2):\n",
    "    promedio = (tanque_0 + tanque_1 + tanque_2) / 3\n",
    "    return f\"\"\"Reporte de Gasolina:\n",
    "    Promedio: {promedio}%\n",
    "    Tanque 0: {tanque_0}%\n",
    "    Tanque 1: {tanque_0}%\n",
    "    Tanque 2: {tanque_0}% \n",
    "    \"\"\"\n",
    "print(generate_report(80, 70, 85))"
   ]
  },
  {
   "cell_type": "markdown",
   "metadata": {},
   "source": [
    "Ejercicio 2: Trabajo con argumentos de palabra clave"
   ]
  },
  {
   "cell_type": "code",
   "execution_count": 4,
   "metadata": {},
   "outputs": [
    {
     "name": "stdout",
     "output_type": "stream",
     "text": [
      "\n",
      "    Misión a Luna\n",
      "    Tiempo de trayecto: 74 minutos\n",
      "    Combustible: 500000\n",
      "    principal tanque --> 300000 galones en tanque\n",
      "externo tanque --> 200000 galones en tanque\n",
      "\n"
     ]
    }
   ],
   "source": [
    "def reporte_mision(destino, *minutos, **reserva_gas):\n",
    "    reporte_principal = f\"\"\"\n",
    "    Misión a {destino}\n",
    "    Tiempo de trayecto: {sum(minutos)} minutos\n",
    "    Combustible: {sum(reserva_gas.values())}\n",
    "    \"\"\"\n",
    "    for tanque_num, gallons in reserva_gas.items():\n",
    "        reporte_principal += f\"{tanque_num} tanque --> {gallons} galones en tanque\\n\"\n",
    "    return reporte_principal\n",
    "\n",
    "print(reporte_mision(\"Luna\", 8, 11, 55, principal=300000, externo=200000))\n"
   ]
  }
 ],
 "metadata": {
  "interpreter": {
   "hash": "a8de938a7b76067a36b5ec62b258707367bc09241fb426475bee068191270785"
  },
  "kernelspec": {
   "display_name": "Python 3.10.2 64-bit",
   "language": "python",
   "name": "python3"
  },
  "language_info": {
   "codemirror_mode": {
    "name": "ipython",
    "version": 3
   },
   "file_extension": ".py",
   "mimetype": "text/x-python",
   "name": "python",
   "nbconvert_exporter": "python",
   "pygments_lexer": "ipython3",
   "version": "3.10.2"
  },
  "orig_nbformat": 4
 },
 "nbformat": 4,
 "nbformat_minor": 2
}
