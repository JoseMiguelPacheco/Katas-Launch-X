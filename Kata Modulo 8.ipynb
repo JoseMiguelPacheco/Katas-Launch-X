{
 "cells": [
  {
   "cell_type": "markdown",
   "metadata": {},
   "source": [
    "Ejercicio 1: Creación de diccionarios de Python"
   ]
  },
  {
   "cell_type": "code",
   "execution_count": null,
   "metadata": {},
   "outputs": [],
   "source": [
    "planeta = {\n",
    "    'nombre': 'Tierra',\n",
    "    'lunas': 1\n",
    "}\n",
    "\n",
    "print(f'{planeta[\"nombre\"]} tiene {planeta[\"lunas\"]} lunas')\n",
    "\n",
    "planeta['circumferencia km'] = {\n",
    "    'polar': 5,\n",
    "    'ecuatorial': 10 \n",
    "}\n",
    "\n",
    "print(f'{planeta[\"nombre\"]} tiene una circumferencia polar de {planeta[\"circumferencia km\"][\"polar\"]}')\n"
   ]
  },
  {
   "cell_type": "markdown",
   "metadata": {},
   "source": [
    "Ejercicio 2: Programación dinámica con diccionarios"
   ]
  },
  {
   "cell_type": "code",
   "execution_count": 1,
   "metadata": {},
   "outputs": [
    {
     "ename": "AttributeError",
     "evalue": "'dict' object has no attribute 'key'",
     "output_type": "error",
     "traceback": [
      "\u001b[1;31m---------------------------------------------------------------------------\u001b[0m",
      "\u001b[1;31mAttributeError\u001b[0m                            Traceback (most recent call last)",
      "\u001b[1;32mc:\\Users\\Jose Miguel\\Documents\\Launch X\\Kata Modulo 8.ipynb Cell 4'\u001b[0m in \u001b[0;36m<module>\u001b[1;34m\u001b[0m\n\u001b[0;32m      <a href='vscode-notebook-cell:/c%3A/Users/Jose%20Miguel/Documents/Launch%20X/Kata%20Modulo%208.ipynb#ch0000003?line=0'>1</a>\u001b[0m lunas_planetas \u001b[39m=\u001b[39m {\n\u001b[0;32m      <a href='vscode-notebook-cell:/c%3A/Users/Jose%20Miguel/Documents/Launch%20X/Kata%20Modulo%208.ipynb#ch0000003?line=1'>2</a>\u001b[0m     \u001b[39m'\u001b[39m\u001b[39mmercury\u001b[39m\u001b[39m'\u001b[39m: \u001b[39m0\u001b[39m,\n\u001b[0;32m      <a href='vscode-notebook-cell:/c%3A/Users/Jose%20Miguel/Documents/Launch%20X/Kata%20Modulo%208.ipynb#ch0000003?line=2'>3</a>\u001b[0m     \u001b[39m'\u001b[39m\u001b[39mvenus\u001b[39m\u001b[39m'\u001b[39m: \u001b[39m0\u001b[39m,\n\u001b[1;32m   (...)\u001b[0m\n\u001b[0;32m     <a href='vscode-notebook-cell:/c%3A/Users/Jose%20Miguel/Documents/Launch%20X/Kata%20Modulo%208.ipynb#ch0000003?line=12'>13</a>\u001b[0m     \u001b[39m'\u001b[39m\u001b[39meris\u001b[39m\u001b[39m'\u001b[39m: \u001b[39m1\u001b[39m\n\u001b[0;32m     <a href='vscode-notebook-cell:/c%3A/Users/Jose%20Miguel/Documents/Launch%20X/Kata%20Modulo%208.ipynb#ch0000003?line=13'>14</a>\u001b[0m }\n\u001b[0;32m     <a href='vscode-notebook-cell:/c%3A/Users/Jose%20Miguel/Documents/Launch%20X/Kata%20Modulo%208.ipynb#ch0000003?line=15'>16</a>\u001b[0m lunas \u001b[39m=\u001b[39m lunas_planetas\u001b[39m.\u001b[39mvalues()\n\u001b[1;32m---> <a href='vscode-notebook-cell:/c%3A/Users/Jose%20Miguel/Documents/Launch%20X/Kata%20Modulo%208.ipynb#ch0000003?line=16'>17</a>\u001b[0m planetas \u001b[39m=\u001b[39m \u001b[39mlen\u001b[39m(lunas_planetas\u001b[39m.\u001b[39;49mkey())\n\u001b[0;32m     <a href='vscode-notebook-cell:/c%3A/Users/Jose%20Miguel/Documents/Launch%20X/Kata%20Modulo%208.ipynb#ch0000003?line=18'>19</a>\u001b[0m lunas_tot \u001b[39m=\u001b[39m \u001b[39m0\u001b[39m\n\u001b[0;32m     <a href='vscode-notebook-cell:/c%3A/Users/Jose%20Miguel/Documents/Launch%20X/Kata%20Modulo%208.ipynb#ch0000003?line=19'>20</a>\u001b[0m \u001b[39mfor\u001b[39;00m luna \u001b[39min\u001b[39;00m lunas:\n",
      "\u001b[1;31mAttributeError\u001b[0m: 'dict' object has no attribute 'key'"
     ]
    }
   ],
   "source": [
    "lunas_planetas = {\n",
    "    'mercury': 0,\n",
    "    'venus': 0,\n",
    "    'earth': 1,\n",
    "    'mars': 2,\n",
    "    'jupiter': 79,\n",
    "    'saturn': 82,\n",
    "    'uranus': 27,\n",
    "    'neptune': 14,\n",
    "    'pluto': 5,\n",
    "    'haumea': 2,\n",
    "    'makemake': 1,\n",
    "    'eris': 1\n",
    "}\n",
    "\n",
    "lunas = lunas_planetas.values()\n",
    "planetas = len(lunas_planetas.key())\n",
    "\n",
    "lunas_tot = 0\n",
    "for luna in lunas:\n",
    "    lunas_tot = lunas_tot + luna\n",
    "promedio = lunas_tot/planetas\n",
    "print(promedio)"
   ]
  }
 ],
 "metadata": {
  "interpreter": {
   "hash": "a8de938a7b76067a36b5ec62b258707367bc09241fb426475bee068191270785"
  },
  "kernelspec": {
   "display_name": "Python 3.10.2 64-bit",
   "language": "python",
   "name": "python3"
  },
  "language_info": {
   "codemirror_mode": {
    "name": "ipython",
    "version": 3
   },
   "file_extension": ".py",
   "mimetype": "text/x-python",
   "name": "python",
   "nbconvert_exporter": "python",
   "pygments_lexer": "ipython3",
   "version": "3.10.2"
  },
  "orig_nbformat": 4
 },
 "nbformat": 4,
 "nbformat_minor": 2
}
