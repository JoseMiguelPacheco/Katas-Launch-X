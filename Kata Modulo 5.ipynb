{
 "cells": [
  {
   "cell_type": "markdown",
   "metadata": {},
   "source": [
    "Ejercicio 1: Utilizar operadores aritméticos"
   ]
  },
  {
   "cell_type": "code",
   "execution_count": 1,
   "metadata": {},
   "outputs": [
    {
     "name": "stdout",
     "output_type": "stream",
     "text": [
      "628949330\n",
      "390577533.93\n"
     ]
    }
   ],
   "source": [
    "#Información\n",
    "primer_Planeta = 149597870\n",
    "segundo_Planeta = 778547200\n",
    "\n",
    "#Calculo de Distancia\n",
    "distancia_km = segundo_Planeta - primer_Planeta\n",
    "print(distancia_km)\n",
    "\n",
    "distancia_mi = distancia_km*0.621\n",
    "print(distancia_mi)\n",
    "\n"
   ]
  },
  {
   "cell_type": "markdown",
   "metadata": {},
   "source": [
    "Ejercicio 2: Convierte cadenas en números y usa valores absolutos"
   ]
  },
  {
   "cell_type": "code",
   "execution_count": 2,
   "metadata": {},
   "outputs": [
    {
     "name": "stdout",
     "output_type": "stream",
     "text": [
      "1\n",
      "0.621\n"
     ]
    }
   ],
   "source": [
    "#Entradas de usuario\n",
    "primer_planeta = input('¿Cuál es la distancia del sol para el primer planeta en KM?')\n",
    "segundo_planeta = input('¿Cuál es la distancia del sol para el segundo planeta en KM?')\n",
    "\n",
    "#convertir a numero\n",
    "primer_planeta = int(primer_planeta)\n",
    "segundo_planeta = int(segundo_planeta)\n",
    "\n",
    "#distancia entre los planetas\n",
    "distancia_KM = segundo_planeta - primer_planeta\n",
    "print(distancia_KM)\n",
    "distancia_MI = distancia_KM*0.621\n",
    "print(abs(distancia_MI))\n"
   ]
  }
 ],
 "metadata": {
  "interpreter": {
   "hash": "a8de938a7b76067a36b5ec62b258707367bc09241fb426475bee068191270785"
  },
  "kernelspec": {
   "display_name": "Python 3.10.2 64-bit",
   "language": "python",
   "name": "python3"
  },
  "language_info": {
   "codemirror_mode": {
    "name": "ipython",
    "version": 3
   },
   "file_extension": ".py",
   "mimetype": "text/x-python",
   "name": "python",
   "nbconvert_exporter": "python",
   "pygments_lexer": "ipython3",
   "version": "3.10.2"
  },
  "orig_nbformat": 4
 },
 "nbformat": 4,
 "nbformat_minor": 2
}
