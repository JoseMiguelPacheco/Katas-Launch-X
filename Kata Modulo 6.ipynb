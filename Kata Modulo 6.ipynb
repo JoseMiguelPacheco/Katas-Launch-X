{
 "cells": [
  {
   "cell_type": "markdown",
   "metadata": {},
   "source": [
    "Ejercicio 1: Crear y usar listas de Python "
   ]
  },
  {
   "cell_type": "code",
   "execution_count": null,
   "metadata": {},
   "outputs": [],
   "source": [
    "#Lista de planetas y mostrarlos\n",
    "planetas = ['Mercurio', 'Venus', 'Tierra', 'Marte', 'Jupiter', 'Saturno', 'Urano', 'Neptuno']\n",
    "print('There are', len(planetas), 'planetas')\n",
    "\n",
    "#Agregamos a Plutón\n",
    "planetas.append('Plutón')\n",
    "print(planetas[-1], 'es el ultimo planeta')\n"
   ]
  },
  {
   "cell_type": "markdown",
   "metadata": {},
   "source": [
    "Ejercicios 2: Trabajar con los datos de una lista"
   ]
  },
  {
   "cell_type": "code",
   "execution_count": 1,
   "metadata": {},
   "outputs": [
    {
     "name": "stdout",
     "output_type": "stream",
     "text": [
      "Estos son los planetas más cercanos que Tierra\n",
      "['Mercurio', 'Venus']\n",
      "Estos son los planetas más lejanos que Tierra\n",
      "['Marte', 'Jupiter', 'Saturno', 'Urano', 'Neptuno']\n"
     ]
    }
   ],
   "source": [
    "#Lista de planetas y mostrarlos\n",
    "planetas = ['Mercurio', 'Venus', 'Tierra', 'Marte', 'Jupiter', 'Saturno', 'Urano', 'Neptuno']\n",
    "\n",
    "#Solicitamos el nombre del planeta \n",
    "planeta_Usuario = input('Pon el nombre del planeta iniciando con un la primer letra mayuscula')\n",
    "\n",
    "#Buscar el planeta en la lista\n",
    "indice_Planeta = planetas.index(planeta_Usuario)\n",
    "\n",
    "#Muestra planetas mas cercanos al sol que el que eligió el usuario\n",
    "print('Estos son los planetas más cercanos que ' + planeta_Usuario)\n",
    "print(planetas[0:indice_Planeta])\n",
    "\n",
    "#Muestra planetas mas lejanos al sol\n",
    "print('Estos son los planetas más lejanos que ' + planeta_Usuario)\n",
    "print(planetas[indice_Planeta + 1:])"
   ]
  }
 ],
 "metadata": {
  "interpreter": {
   "hash": "a8de938a7b76067a36b5ec62b258707367bc09241fb426475bee068191270785"
  },
  "kernelspec": {
   "display_name": "Python 3.10.2 64-bit",
   "language": "python",
   "name": "python3"
  },
  "language_info": {
   "codemirror_mode": {
    "name": "ipython",
    "version": 3
   },
   "file_extension": ".py",
   "mimetype": "text/x-python",
   "name": "python",
   "nbconvert_exporter": "python",
   "pygments_lexer": "ipython3",
   "version": "3.10.2"
  },
  "orig_nbformat": 4
 },
 "nbformat": 4,
 "nbformat_minor": 2
}
