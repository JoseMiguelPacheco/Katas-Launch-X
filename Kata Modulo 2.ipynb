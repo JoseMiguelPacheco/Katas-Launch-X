{
 "cells": [
  {
   "cell_type": "code",
   "execution_count": null,
   "metadata": {},
   "outputs": [],
   "source": [
    "from datetime import *\n",
    "from dateutil.relativedelta import *\n",
    "now = datetime.now()\n",
    "print(now)\n",
    "\n",
    "now = now + relativedelta(months=1, weeks=1, hour=10)\n",
    "\n",
    "print(now)"
   ]
  }
 ],
 "metadata": {
  "interpreter": {
   "hash": "a8de938a7b76067a36b5ec62b258707367bc09241fb426475bee068191270785"
  },
  "kernelspec": {
   "display_name": "Python 3.10.2 64-bit",
   "language": "python",
   "name": "python3"
  },
  "language_info": {
   "name": "python",
   "version": "3.10.2"
  },
  "orig_nbformat": 4
 },
 "nbformat": 4,
 "nbformat_minor": 2
}
