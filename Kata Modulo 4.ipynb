{
 "cells": [
  {
   "cell_type": "markdown",
   "metadata": {},
   "source": [
    "Ejercicio 1: Transformar Cadenas"
   ]
  },
  {
   "cell_type": "code",
   "execution_count": 3,
   "metadata": {},
   "outputs": [
    {
     "name": "stdout",
     "output_type": "stream",
     "text": [
      "On average, the Moon moves 4cm away from the Earth every year\n"
     ]
    }
   ],
   "source": [
    "text = \"Interesting facts about the Moon. The Moon is Earth's only satellite. There are several interesting facts about the Moon and how it affects life here on Earth. On average, the Moon moves 4cm away from the Earth every year. This yearly drift is not significant enough to cause immediate effects on Earth.\"\n",
    "\n",
    "#Dividir palabras\n",
    "\n",
    "partes_de_Texto = text.split(\". \")\n",
    "\n",
    "\n",
    "#Palabras clave\n",
    "\n",
    "palabras_Clave = [\"average\", \"temperature\", \"distance\"]\n",
    "\n",
    "#Ciclo para recorrer la cadena\n",
    "\n",
    "for oracion in partes_de_Texto:\n",
    "    for palabra_Clave in palabras_Clave:\n",
    "        if palabra_Clave in oracion:\n",
    "            print(oracion)\n",
    "            break "
   ]
  },
  {
   "cell_type": "markdown",
   "metadata": {},
   "source": [
    "Ejercicio 2: Formateando Cadenas"
   ]
  },
  {
   "cell_type": "code",
   "execution_count": 1,
   "metadata": {},
   "outputs": [
    {
     "name": "stdout",
     "output_type": "stream",
     "text": [
      "\"--------------------------------------------------------------------------------\n",
      "Nombre del Planeta: Marte\n",
      "Gravedad en Ganímedes: 1.4300000000000002 m/s2\n",
      "\n",
      "\"--------------------------------------------------------------------------------\n",
      "Nombre del Planeta: Marte\n",
      "Gravedad en Ganímedes: 1.4300000000000002 m/s2\n",
      "\n"
     ]
    }
   ],
   "source": [
    "#Datos\n",
    "planeta = 'Marte'\n",
    "gravedad = 0.00143\n",
    "nombre = 'Ganímedes'\n",
    "\n",
    "#Título\n",
    "titulo = f'datos de gravedad sobre{nombre}'\n",
    "\n",
    "#Creación de Plantilla\n",
    "hechos = f\"\"\"\"{'-'*80}\n",
    "Nombre del Planeta: {planeta}\n",
    "Gravedad en {nombre}: {gravedad*1000} m/s2\n",
    "\"\"\"\n",
    "\n",
    "#Union de Cadenas\n",
    "template = f\"\"\"{titulo.title()}\n",
    "{hechos}\n",
    "\"\"\"\n",
    "print(hechos)\n",
    "\n",
    "#Nuevos datos de muestra\n",
    "planeta = 'Marte'\n",
    "gravedad = 0.00143\n",
    "nombre = 'Ganímedes'\n",
    "\n",
    "#Comprobación de Plantilla\n",
    "print(hechos)\n",
    "\n"
   ]
  }
 ],
 "metadata": {
  "interpreter": {
   "hash": "a8de938a7b76067a36b5ec62b258707367bc09241fb426475bee068191270785"
  },
  "kernelspec": {
   "display_name": "Python 3.10.2 64-bit",
   "language": "python",
   "name": "python3"
  },
  "language_info": {
   "codemirror_mode": {
    "name": "ipython",
    "version": 3
   },
   "file_extension": ".py",
   "mimetype": "text/x-python",
   "name": "python",
   "nbconvert_exporter": "python",
   "pygments_lexer": "ipython3",
   "version": "3.10.2"
  },
  "orig_nbformat": 4
 },
 "nbformat": 4,
 "nbformat_minor": 2
}
